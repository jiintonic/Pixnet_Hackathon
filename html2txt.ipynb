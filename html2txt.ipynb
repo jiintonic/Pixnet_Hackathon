{
 "cells": [
  {
   "cell_type": "code",
   "execution_count": null,
   "metadata": {
    "collapsed": true
   },
   "outputs": [],
   "source": [
    "data_path = '/hackathon-data/topic_3-crossword/2016-hackathon-qa.raw'"
   ]
  },
  {
   "cell_type": "code",
   "execution_count": null,
   "metadata": {
    "collapsed": true
   },
   "outputs": [],
   "source": [
    "import json\n",
    "from bs4 import BeautifulSoup\n",
    "import re"
   ]
  },
  {
   "cell_type": "code",
   "execution_count": null,
   "metadata": {
    "collapsed": true
   },
   "outputs": [],
   "source": [
    "raw = []\n",
    "with open(data_path, 'r') as f:\n",
    "    for line in f:\n",
    "        raw.append(json.loads(line))"
   ]
  },
  {
   "cell_type": "code",
   "execution_count": null,
   "metadata": {
    "collapsed": true
   },
   "outputs": [],
   "source": [
    "f = open('pixnet_content', 'a')\n",
    "for i in range(len(raw)):\n",
    "    to_parse = raw[i]['content']\n",
    "    soup = BeautifulSoup(to_parse, 'html.parser')\n",
    "    try:\n",
    "        for hidden in soup.body.findAll(text=re.compile(\"CDATA\")):\n",
    "            hidden.replaceWith(\"\")\n",
    "    except:\n",
    "        pass\n",
    "    \n",
    "    text = soup.getText().encode(\"UTF-8\")\n",
    "    try:\n",
    "        aaa = re.sub(r'\\w+:\\/{2}[\\d\\w-]+(\\.[\\d\\w-]+)*(?:(?:\\/[^\\s/]*))*', '', text)\n",
    "    except:\n",
    "        pass\n",
    "    f.write(aaa)\n",
    "f.close()\n",
    "    \n",
    "   "
   ]
  }
 ],
 "metadata": {
  "kernelspec": {
   "display_name": "Python 2",
   "language": "python",
   "name": "python2"
  },
  "language_info": {
   "codemirror_mode": {
    "name": "ipython",
    "version": 2
   },
   "file_extension": ".py",
   "mimetype": "text/x-python",
   "name": "python",
   "nbconvert_exporter": "python",
   "pygments_lexer": "ipython2",
   "version": "2.7.10"
  }
 },
 "nbformat": 4,
 "nbformat_minor": 0
}
