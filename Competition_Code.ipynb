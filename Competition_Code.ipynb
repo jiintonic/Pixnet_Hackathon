{
 "cells": [
  {
   "cell_type": "code",
   "execution_count": null,
   "metadata": {
    "collapsed": true
   },
   "outputs": [],
   "source": [
    "#coding= UTF-8\n",
    "\n",
    "import sys, os, datetime, time, re\n",
    "import random\n",
    "from slackbot import bot\n",
    "\n",
    "TOKEN_MYBOT = ######\n",
    "bot.settings.API_TOKEN  = TOKEN_MYBOT\n",
    "# testonetwothree 的 Channel ID \n",
    "CHANNEL_ID = 'C20QYLSKE' #\"C1QQG5SJG\"  \n",
    "# 算分 Bot 的 ID\n",
    "PIX_INSPECTOR = \"U1QDCHJ3H\"\n",
    "\n",
    "from slackbot.bot import Bot\n",
    "from slackbot.bot import respond_to\n",
    "from slackbot.bot import listen_to"
   ]
  },
  {
   "cell_type": "code",
   "execution_count": null,
   "metadata": {
    "collapsed": true
   },
   "outputs": [],
   "source": [
    "def main():\n",
    "    bot = Bot()\n",
    "    bot.run()"
   ]
  },
  {
   "cell_type": "code",
   "execution_count": null,
   "metadata": {
    "collapsed": true
   },
   "outputs": [],
   "source": [
    "import gensim\n",
    "model = gensim.models.Word2Vec.load('word2vec_combine_trained')"
   ]
  },
  {
   "cell_type": "code",
   "execution_count": null,
   "metadata": {
    "collapsed": true
   },
   "outputs": [],
   "source": [
    "import jieba\n",
    "\n",
    "jieba.set_dictionary('traditional.dict.txt')\n",
    "jieba.load_userdict('additional.dict.txt')"
   ]
  },
  {
   "cell_type": "code",
   "execution_count": null,
   "metadata": {
    "collapsed": true
   },
   "outputs": [],
   "source": [
    "f = open('Pix_sentence', 'r')\n",
    "data_list = f.readlines()"
   ]
  },
  {
   "cell_type": "code",
   "execution_count": null,
   "metadata": {
    "collapsed": true
   },
   "outputs": [],
   "source": [
    "def bin_search(search_term, data_list):\n",
    "    if len(search_term) <= 12:\n",
    "        return 'DNE'\n",
    "    \n",
    "    min_v = 0\n",
    "    max_v = len(data_list)\n",
    "    mid = 0\n",
    "    while(mid < max_v):\n",
    "        mid = (min_v + max_v)/2\n",
    "        \n",
    "        if search_term in data_list[mid]: \n",
    "            return data_list[mid]\n",
    "\n",
    "        elif search_term > data_list[mid]:\n",
    "            min_v = mid+1\n",
    "    \n",
    "        else:\n",
    "            max_v = mid\n",
    "        mid = (min_v + max_v)/2\n",
    "    \n",
    "    return 'DNE'"
   ]
  },
  {
   "cell_type": "code",
   "execution_count": null,
   "metadata": {
    "collapsed": true
   },
   "outputs": [],
   "source": [
    "stopWords_set = set()\n",
    "content = open('ch_stopwords.txt', 'rb').read().decode('utf-8')\n",
    "for line in content.splitlines():\n",
    "    stopWords_set.add(line.strip().encode('utf8'))\n",
    "    stopWords_set.add(' ')\n",
    "\n",
    "def replace_all(text, dic):\n",
    "    for i, j in dic.iteritems():\n",
    "        text = text.replace(i, j)\n",
    "    return text\n",
    "    \n",
    "#this function returns the paragraph as a list of words(without the buzzword)\n",
    "def get_cloze_par(par): \n",
    "\n",
    "    #par is the paragraph without any punctuation.\n",
    "    reps = {'。':'', '!':'', ',':'', '.':'', '，':'', '～': '', '~':'', '︽⊙＿⊙︽':'BUZZWORD'}\n",
    "    par = replace_all(par, reps)\n",
    "    \n",
    "    words = jieba.cut(par, cut_all=False)\n",
    "    ans = list()\n",
    "    for w in words:\n",
    "        w = w.encode('UTF-8')\n",
    "        if w not in stopWords_set and w in model:\n",
    "            ans.append(w)\n",
    "    return ans"
   ]
  },
  {
   "cell_type": "code",
   "execution_count": null,
   "metadata": {
    "collapsed": true
   },
   "outputs": [],
   "source": [
    "#get the highest score from the paragraph +1/10 of the entire paragraph\n",
    "def get_answer(nums):\n",
    "    ans = 0\n",
    "    temp = nums[0]\n",
    "    for i in range(len(nums)):\n",
    "        if(nums[i] > temp):\n",
    "            ans = i\n",
    "            temp = nums[i]\n",
    "    return ans"
   ]
  },
  {
   "cell_type": "code",
   "execution_count": null,
   "metadata": {
    "collapsed": true
   },
   "outputs": [],
   "source": [
    "def ans_score(nums):\n",
    "    temp = nums[0]\n",
    "    for i in range(len(nums)):\n",
    "        if(nums[i] > temp):\n",
    "            temp = nums[i]\n",
    "    return temp"
   ]
  },
  {
   "cell_type": "code",
   "execution_count": null,
   "metadata": {
    "collapsed": true
   },
   "outputs": [],
   "source": [
    "def search_term(par):\n",
    "    reps = {'。':'\\n', '!':'\\n', ',':'\\n', '.':'\\n', '，':'\\n', '～': '/n', '~':'\\n', '︽⊙＿⊙︽':'BUZZWORD'}\n",
    "    par = replace_all(par, reps)\n",
    "    sentences = par.splitlines()\n",
    "    term = ''\n",
    "    for i in range(len(sentences)):\n",
    "        if 'BUZZWORD' in sentences[i]:\n",
    "            sentence = sentences[i].strip()\n",
    "    words = jieba.cut(sentence, cut_all=False)\n",
    "    for w in words:\n",
    "        w = w.strip()\n",
    "        w = w.encode('UTF-8')\n",
    "        if w == 'BUZZWORD':\n",
    "            if len(term) == 0:\n",
    "                return \"DNE\"\n",
    "            return term\n",
    "        else:\n",
    "            term = term + w + ' '\n",
    "    \n",
    "    return term"
   ]
  },
  {
   "cell_type": "code",
   "execution_count": null,
   "metadata": {
    "collapsed": true
   },
   "outputs": [],
   "source": [
    "def relation_score2(a, b):\n",
    "    s = a[0]\n",
    "    g = 0\n",
    "    for i in range(len(a)):\n",
    "        if a[i] > s:\n",
    "            s = a[i]\n",
    "        g += a[i]\n",
    "    s += g/10. + b\n",
    "    return s"
   ]
  },
  {
   "cell_type": "code",
   "execution_count": null,
   "metadata": {
    "collapsed": true
   },
   "outputs": [],
   "source": [
    "def print_list(ans):\n",
    "    w = ''\n",
    "    for i in ans:\n",
    "        w += i + ' '\n",
    "    print w"
   ]
  },
  {
   "cell_type": "code",
   "execution_count": null,
   "metadata": {
    "collapsed": true
   },
   "outputs": [],
   "source": [
    "ANSWER_LIST = {}\n",
    "\n",
    "## 取得 quizmaster 丟出的題目字串，解析出問題及選項\n",
    "@listen_to(unicode(\"題目\", 'utf-8') + ' (.*)', re.DOTALL)\n",
    "def receive_question(message, question):\n",
    "    \n",
    "    pattern = re.compile('.*\\[(\\d+)\\](.*)###(.*)\\[END\\]', re.DOTALL)  \n",
    "    if message._client.users[message._get_user_id()][u'name'] == \"pix_quizmaster\" and pattern.match(question):\n",
    "        m = re.match('.*\\[(\\d+)\\](.*)###(.*)\\[END\\]', question, re.DOTALL)\n",
    "        quiz_no = int(m.group(1).strip())\n",
    "        question = m.group(2)\n",
    "        options = {}\n",
    "        for item in m.group(3).split(','):\n",
    "            index, value = item.split(':')\n",
    "            options[index.strip()] = value.strip()\n",
    "        \n",
    "        # 在此呼叫定義算法 \n",
    "        choices = ['a', 'b', 'c', 'd', 'e']\n",
    "        for index in choices:\n",
    "            c = options[index]\n",
    "        \n",
    "        pot = []\n",
    "        final_ans = ''\n",
    "        \n",
    "        search_ = search_term(question).strip() #find the cloze sentence\n",
    "        search_w = search_.split() #make it into a list\n",
    "        \n",
    "        ans_ = bin_search(search_, data_list) #return cloze sentence in database\n",
    "        if ans_ == 'DNE':\n",
    "            ans = 'DNE'\n",
    "        else:\n",
    "            ans = ans_.split()[len(search_w)]\n",
    "            \n",
    "        for index in choices:\n",
    "            c = options[index]\n",
    "            if c.lower() == ans.lower():\n",
    "                final_ans = index\n",
    "                break\n",
    "                \n",
    "        if final_ans != '':\n",
    "            ANSWER_LIST[quiz_no] = final_ans\n",
    "        \n",
    "        else:\n",
    "            words = get_cloze_par(question)\n",
    "            for index in choices:\n",
    "                c = options[index]\n",
    "                #假如選項不在 model 裡 用結巴斷句\n",
    "                if c not in model: \n",
    "                    temp = jieba.lcut(c, cut_all=False)\n",
    "                    c = temp[0].encode('UTF-8')\n",
    "                    #假如斷完之後還是不在 model 中, 取第一個字\n",
    "                    if c not in model:\n",
    "                        c = c[0:3]\n",
    "                    #英文字的話直接代換\n",
    "                    if c not in model:\n",
    "                        c = '嗨'\n",
    "                        \n",
    "                if ans == 'DNE':\n",
    "                    add_ = 0\n",
    "                else:\n",
    "                    add_ = model.similarity(ans, c)\n",
    "                b = model.similarity(words, c)\n",
    "        \n",
    "                pot.append(relation_score2(b, add_))\n",
    "                ANSWER_LIST[quiz_no] = choices[get_answer(pot)]          \n",
    "\n",
    "    #當 quizmaster 丟出 \"機器人小朋友請搶答\"，請儘速把答案丟到 channel     \n",
    "@listen_to(unicode(\"機器人小朋友請搶答\", 'utf-8') +'$')\n",
    "def hello_send(message):\n",
    "    if message._client.users[message._get_user_id()][u'name'] == \"pix_quizmaster\":\n",
    "    \n",
    "        reply_ans = \"\"\n",
    "        for idx in ANSWER_LIST:\n",
    "            reply_ans += str(idx) + \" : \" + ANSWER_LIST[idx] + \",\"\n",
    "        message.send(\"<@%s>: %s %s\" % (PIX_INSPECTOR, unicode(\"請給分 \", 'utf-8'), reply_ans[:-1]))\n",
    "        ANSWER_LIST.clear()\n",
    "        \n",
    "# 幫按讚\n",
    "@listen_to(unicode(\"題號\", 'utf-8') + ' (.*)')\n",
    "def hey(message, ans_string):\n",
    "    message.react('+1')\n",
    "\n",
    "# 回覆訊息範例\n",
    "@respond_to('hello$', re.IGNORECASE)\n",
    "def hello_reply(message):\n",
    "    message.reply('hello sender!')\n"
   ]
  },
  {
   "cell_type": "code",
   "execution_count": null,
   "metadata": {
    "collapsed": true
   },
   "outputs": [],
   "source": [
    "main()"
   ]
  }
 ],
 "metadata": {
  "kernelspec": {
   "display_name": "Python 2",
   "language": "python",
   "name": "python2"
  },
  "language_info": {
   "codemirror_mode": {
    "name": "ipython",
    "version": 2
   },
   "file_extension": ".py",
   "mimetype": "text/x-python",
   "name": "python",
   "nbconvert_exporter": "python",
   "pygments_lexer": "ipython2",
   "version": "2.7.10"
  }
 },
 "nbformat": 4,
 "nbformat_minor": 0
}
