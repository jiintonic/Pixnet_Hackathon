{
 "cells": [
  {
   "cell_type": "code",
   "execution_count": null,
   "metadata": {
    "collapsed": true
   },
   "outputs": [],
   "source": [
    "import gensim\n",
    "model = gensim.models.Word2Vec.load('word2vec_combine_trained')"
   ]
  },
  {
   "cell_type": "code",
   "execution_count": null,
   "metadata": {
    "collapsed": true
   },
   "outputs": [],
   "source": [
    "import jieba\n",
    "\n",
    "jieba.set_dictionary('traditional.dict.txt')\n",
    "jieba.load_userdict('additional.dict.txt')"
   ]
  },
  {
   "cell_type": "code",
   "execution_count": null,
   "metadata": {
    "collapsed": true
   },
   "outputs": [],
   "source": [
    "import json\n",
    "\n",
    "def load_testing_data(data):\n",
    "    f = open(data, 'r')\n",
    "    questions = f.readlines()\n",
    "    q = list()\n",
    "    for question in questions:\n",
    "        try:\n",
    "            js =json.loads(question)\n",
    "            q.append(js)\n",
    "        except:\n",
    "            print question\n",
    "    f.close()\n",
    "    return q #q is a list\n"
   ]
  },
  {
   "cell_type": "code",
   "execution_count": null,
   "metadata": {
    "collapsed": true
   },
   "outputs": [],
   "source": [
    "f1 = open('questions.txt', 'r')\n",
    "q_list = f1.readlines()"
   ]
  },
  {
   "cell_type": "code",
   "execution_count": null,
   "metadata": {
    "collapsed": true
   },
   "outputs": [],
   "source": [
    "f = open('Pix_sentence', 'r')\n",
    "s_list = f.readlines()"
   ]
  },
  {
   "cell_type": "code",
   "execution_count": null,
   "metadata": {
    "collapsed": true
   },
   "outputs": [],
   "source": [
    "def bin_search(i, a_list):\n",
    "    if len(i) <= 12:\n",
    "        return 'DNE'\n",
    "    \n",
    "    min_v = 0\n",
    "    max_v = len(a_list)\n",
    "    mid = 0\n",
    "    while(mid < max_v):\n",
    "        mid = (min_v + max_v)/2\n",
    "        \n",
    "        if i in a_list[mid]: \n",
    "            return a_list[mid]\n",
    "\n",
    "        elif i > a_list[mid]:\n",
    "            min_v = mid+1\n",
    "    \n",
    "        else:\n",
    "            max_v = mid\n",
    "        mid = (min_v + max_v)/2\n",
    "    \n",
    "    return 'DNE'\n"
   ]
  },
  {
   "cell_type": "code",
   "execution_count": null,
   "metadata": {
    "collapsed": true
   },
   "outputs": [],
   "source": [
    "def print_list(ans):\n",
    "    w = ''\n",
    "    for i in ans:\n",
    "        w += i + ' '\n",
    "    print w"
   ]
  },
  {
   "cell_type": "code",
   "execution_count": null,
   "metadata": {
    "collapsed": true
   },
   "outputs": [],
   "source": [
    "stopWords_set = set()\n",
    "content = open('ch_stopwords.txt', 'rb').read().decode('utf-8')\n",
    "for line in content.splitlines():\n",
    "    stopWords_set.add(line.strip().encode('utf8'))\n",
    "    stopWords_set.add(' ')\n",
    "\n",
    "def replace_all(text, dic):\n",
    "    for i, j in dic.iteritems():\n",
    "        text = text.replace(i, j)\n",
    "    return text\n",
    "    \n",
    "#this function returns the paragraph as a list of words(without the buzzword)\n",
    "def get_cloze_par(par): \n",
    "\n",
    "    #par is the paragraph without any punctuation.\n",
    "    reps = {'。':'', '!':'', ',':'', '.':'', '，':'', '～': '', '~':'', '︽⊙＿⊙︽':'BUZZWORD'}\n",
    "    par = replace_all(par, reps)\n",
    "    \n",
    "    words = jieba.cut(par, cut_all=False)\n",
    "    ans = list()\n",
    "    for w in words:\n",
    "        w = w.encode('UTF-8')\n",
    "        if w not in stopWords_set and w in model:\n",
    "            ans.append(w)\n",
    "    return ans"
   ]
  },
  {
   "cell_type": "code",
   "execution_count": null,
   "metadata": {
    "collapsed": true
   },
   "outputs": [],
   "source": [
    "#get the highest score from the paragraph +1/10 of the entire paragraph\n",
    "def relation_score(a):\n",
    "    s = a[0]\n",
    "    g = 0\n",
    "    for i in range(len(a)):\n",
    "        if a[i] > s:\n",
    "            s = a[i]\n",
    "        g += a[i]\n",
    "    s += g/10.\n",
    "    return s\n",
    "\n",
    "def get_answer(nums):\n",
    "    ans = 0\n",
    "    temp = nums[0]\n",
    "    for i in range(len(nums)):\n",
    "        if(nums[i] > temp):\n",
    "            ans = i\n",
    "            temp = nums[i]\n",
    "    return ans"
   ]
  },
  {
   "cell_type": "code",
   "execution_count": null,
   "metadata": {
    "collapsed": true
   },
   "outputs": [],
   "source": [
    "def ans_score(nums):\n",
    "    temp = nums[0]\n",
    "    for i in range(len(nums)):\n",
    "        if(nums[i] > temp):\n",
    "            temp = nums[i]\n",
    "    return temp"
   ]
  },
  {
   "cell_type": "code",
   "execution_count": null,
   "metadata": {
    "collapsed": true
   },
   "outputs": [],
   "source": [
    "def check_answer(ans_list, correct_ans, score_list):\n",
    "    o = 0;\n",
    "    zero = 0\n",
    "    zero_c = 0\n",
    "    one = 0\n",
    "    one_c = 0\n",
    "    two = 0\n",
    "    two_c = 0\n",
    "    three = 0\n",
    "    three_c = 0\n",
    "    score = 0\n",
    "    r_list = ['']*30\n",
    "    wrong_list = ['']*30\n",
    "    c_score = 0\n",
    "    w_score = 0\n",
    "    for y in range(30):\n",
    "        if(ans_list[y] == correct_ans[y]):\n",
    "            c_score += score_list[y]\n",
    "            o +=1\n",
    "            duu = 'correct'\n",
    "            if(guess_list[y] == ''):\n",
    "                zero +=1\n",
    "                zero_c +=1\n",
    "            elif(guess_list[y] == '*'):\n",
    "                one +=1\n",
    "                one_c +=1\n",
    "            elif(guess_list[y] == '**'):\n",
    "                two +=1\n",
    "                two_c +=1\n",
    "            elif(guess_list[y] == '***'):\n",
    "                three +=1\n",
    "                three_c +=1\n",
    "        else:\n",
    "            duu = 'wrong'\n",
    "            w_score += score_list[y]\n",
    "            wrong_list[y] += '\\t' + str(ans_list[y]) + ' answer: ' + str(correct_ans[y])\n",
    "            if(guess_list[y] == ''):\n",
    "                zero +=1\n",
    "            elif(guess_list[y] == '*'):\n",
    "                one +=1\n",
    "            elif(guess_list[y] == '**'):\n",
    "                two +=1\n",
    "            elif(guess_list[y] == '***'):\n",
    "                three +=1\n",
    "\n",
    "        r_list[y] += duu\n",
    "        score += score_list[y]\n",
    "\n",
    "    print 'Correctness:'\n",
    "    print o/30. \n",
    "    score = score/30.\n",
    "    print \"Average score: \" + str(score)\n",
    "    print 'correct average score: ' + str(c_score/o)\n",
    "    print 'wrong_ans average score: ' + str(w_score/(30-o))\n",
    "    print '\\'\\': ' + str(zero_c/float(zero))\n",
    "    print '*: ' + str(one_c/float(one))\n",
    "    print '**: ' + str(two_c/float(two))\n",
    "    #print '***: ' + str(three_c/float(three))\n",
    "    print '\\n'\n",
    "    \n",
    "    for y in range(30):\n",
    "        print str(y+1) + ': ' + r_list[y] + '\\t' + str(score_list[y]) + '\\t'+ guess_list[y] + '\\t' + w_list[y] + '\\t' + wrong_list[y]\n",
    "        score += score_list[y]\n",
    "    "
   ]
  },
  {
   "cell_type": "code",
   "execution_count": null,
   "metadata": {
    "collapsed": true
   },
   "outputs": [],
   "source": [
    "def search_term(par):\n",
    "    reps = {'。':'\\n', '!':'\\n', ',':'\\n', '.':'\\n', '，':'\\n', '～': '/n', '~':'\\n', '︽⊙＿⊙︽':'BUZZWORD'}\n",
    "    par = replace_all(par, reps)\n",
    "    sentences = par.splitlines()\n",
    "    term = ''\n",
    "    sentence = \"\"\n",
    "    for i in range(len(sentences)):\n",
    "        if 'BUZZWORD' in sentences[i]:\n",
    "            sentence = sentences[i].strip()\n",
    "    \n",
    "    words = jieba.cut(sentence, cut_all=False)\n",
    "    for w in words:\n",
    "        w = w.strip()\n",
    "        w = w.encode('UTF-8')\n",
    "        if w == 'BUZZWORD':\n",
    "            if len(term) == 0:\n",
    "                return \"DNE\"\n",
    "            return term\n",
    "        else:\n",
    "            term = term + w + ' '\n",
    "    \n",
    "    return term"
   ]
  },
  {
   "cell_type": "code",
   "execution_count": null,
   "metadata": {
    "collapsed": true
   },
   "outputs": [],
   "source": [
    "def relation_score2(a, b):\n",
    "    s = a[0]\n",
    "    g = 0\n",
    "    for i in range(len(a)):\n",
    "        if a[i] > s:\n",
    "            s = a[i]\n",
    "        g += a[i]\n",
    "    s += g/10. + b\n",
    "    return s"
   ]
  },
  {
   "cell_type": "code",
   "execution_count": null,
   "metadata": {
    "collapsed": true
   },
   "outputs": [],
   "source": [
    "def question2json(file):\n",
    "    f1 = open(file, 'r')\n",
    "    tq = f1.readlines()\n",
    "\n",
    "\n",
    "    for line in tq:\n",
    "        result = '{\\\"answer\\\": \\\"\\\", '\n",
    "        pattern = re.compile('.*\\[(\\d+)\\](.*)###(.*)\\[END\\]', re.DOTALL)\n",
    "        if pattern.match(line):\n",
    "            m = re.match('.*\\[(\\d+)\\](.*)###(.*)\\[END\\]', line, re.DOTALL)\n",
    "            quiz_no = int(m.group(1).strip())\n",
    "            question = m.group(2)\n",
    "            result += '\\\"choices\\\": {'\n",
    "            for item in m.group(3).split(','):\n",
    "                index, value = item.split(':')\n",
    "                result += '\\\"' + index.strip() + '\\\": \\\"' + value.strip() +'\\\", '\n",
    "            result = result[:-2]\n",
    "            result += '}, \\\"index\\\": ' + str(quiz_no) + \", \\\"question\\\": \\\"\" + question +'\\\"}'\n",
    "            print result\n",
    "        \n",
    "def test_bot(q_list):\n",
    "    i = 0\n",
    "    for line in q_list:\n",
    "        if '機器人小朋友請搶答' in line:\n",
    "            hello_send(None) \n",
    "        else:\n",
    "            i += 1\n",
    "            print i\n",
    "            receive_question(None, line)"
   ]
  },
  {
   "cell_type": "code",
   "execution_count": null,
   "metadata": {
    "collapsed": true
   },
   "outputs": [],
   "source": [
    "import time\n",
    "start_time = time.time()\n",
    "\n",
    "data = load_testing_data('JSon_question.txt')\n",
    "correct_ans = []\n",
    "ans_list = []\n",
    "guess_list = ['']*len(data)\n",
    "w_list = ['']*len(data)\n",
    "score_list = []\n",
    "\n",
    "for i in range(len(data)):\n",
    "    \n",
    "    f1 = data[i]['question'].encode('UTF-8')\n",
    "    correct_ans.append(data[i]['answer'])\n",
    "    choices = ['a', 'b', 'c', 'd', 'e']\n",
    "    pot = []\n",
    "    final_ans = ''\n",
    "    #search method\n",
    "    search_ = search_term(f1).strip()\n",
    "    search_w = search_.split()\n",
    "    #list of words\n",
    "    ans_ = bin_search(search_, s_list)\n",
    "\n",
    "    if ans_ == 'DNE':\n",
    "        ans = 'DNE'\n",
    "    else:\n",
    "        ans = ans_.split()[len(search_w)]\n",
    "      \n",
    "    for j in choices:\n",
    "        c = data[i]['choices'][j].encode('UTF-8')\n",
    "        if c.lower() == ans.lower():\n",
    "            final_ans = j\n",
    "            break\n",
    "    if final_ans != '':\n",
    "        ans_list.append(final_ans)\n",
    "        score_list.append(100)\n",
    "        \n",
    "    else:\n",
    "        words = get_cloze_par(f1)\n",
    "        for j in choices:\n",
    "            c = data[i]['choices'][j].encode('UTF-8')\n",
    "            #假如選項不在 model 裡 用結巴斷句\n",
    "            if c not in model: \n",
    "                w_list[i] += c + '  '\n",
    "                guess_list[i] += '*'\n",
    "                temp = jieba.lcut(c, cut_all=False)\n",
    "                c = temp[0].encode('UTF-8')\n",
    "                #假如斷完之後還是不在 model 中, 取第一個字\n",
    "                if c not in model:\n",
    "                    c = c[0:3]\n",
    "                    guess_list[i] += '*'\n",
    "                #英文字的話直接代換\n",
    "                if c not in model:\n",
    "                    c = '嗨'\n",
    "                    guess_list[i] += '*'\n",
    "                w_list[i] += c \n",
    "            if ans == 'DNE':\n",
    "                add_ = 0\n",
    "            else:\n",
    "                add_ = model.similarity(ans, c)\n",
    "            b = model.similarity(words, c)\n",
    "            pot.append(relation_score2(b, add_))\n",
    "\n",
    "        ans_list.append(choices[get_answer(pot)])\n",
    "        score_list.append(ans_score(pot))    \n",
    "\n",
    "print(\"--- %s seconds ---\" % (time.time() - start_time))"
   ]
  },
  {
   "cell_type": "code",
   "execution_count": null,
   "metadata": {
    "collapsed": true
   },
   "outputs": [],
   "source": [
    "check_answer(ans_list, correct_ans, score_list)"
   ]
  }
 ],
 "metadata": {
  "kernelspec": {
   "display_name": "Python 2",
   "language": "python",
   "name": "python2"
  },
  "language_info": {
   "codemirror_mode": {
    "name": "ipython",
    "version": 2
   },
   "file_extension": ".py",
   "mimetype": "text/x-python",
   "name": "python",
   "nbconvert_exporter": "python",
   "pygments_lexer": "ipython2",
   "version": "2.7.10"
  }
 },
 "nbformat": 4,
 "nbformat_minor": 0
}
